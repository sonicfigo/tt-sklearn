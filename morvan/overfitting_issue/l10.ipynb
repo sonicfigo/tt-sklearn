{
 "cells": [
  {
   "cell_type": "code",
   "execution_count": 3,
   "metadata": {
    "collapsed": false
   },
   "outputs": [],
   "source": [
    "# coding=utf-8\n",
    "\"\"\"\n",
    "连续三节的cross validation让我们知道在机器学习中 validation 是有多么的重要, \n",
    "\n",
    "如何解决overfitting？\n",
    "发现overfitting分界点的参数，如gamma在0.0005。\n",
    "\n",
    "[validation_curve]\n",
    "这一次的 sklearn 中我们用到了 sklearn.learning_curve 当中的另外一种, 叫做 validation_curve。\n",
    "用这一种 curve 我们就能更加直观看出改变 model 中的参数的时候有没有 overfitting 的问题了。\n",
    "这也是可以让我们更好的选择参数的方法。\n",
    "\"\"\"\n",
    "\n",
    "from __future__ import print_function\n",
    "from sklearn.model_selection import validation_curve\n",
    "from sklearn.datasets import load_digits\n",
    "from sklearn.svm import SVC\n",
    "import matplotlib.pyplot as plt\n",
    "import numpy as np\n",
    "\n",
    "digits = load_digits()\n",
    "X = digits.data\n",
    "y = digits.target\n",
    "\n",
    "# logspac用于创建等比数列\n",
    "param_range = np.logspace(-6, -2.3, 5)  # log(-6) ~ log(-2.3)范围内等比取5个点，作为横坐标x\n",
    "print ('param_range is %s ' % param_range)\n",
    "# 定义了改变SVC()的gamma值， 范围为param_range\n",
    "train_loss, test_loss = validation_curve(SVC(), X, y, param_name='gamma',\n",
    "                                         param_range=param_range, cv=10,\n",
    "                                         scoring='neg_mean_squared_error')\n",
    "\n",
    "train_loss_mean = -np.mean(train_loss, axis=1)\n",
    "test_loss_mean = -np.mean(test_loss, axis=1)\n",
    "\n",
    "plt.plot(param_range, train_loss_mean, 'o-', color=\"r\", label=\"Training\")\n",
    "plt.plot(param_range, test_loss_mean, 'o-', color=\"g\", label=\"Cross-validation\")\n",
    "\n",
    "plt.xlabel(\"gamma\")\n",
    "plt.ylabel(\"Loss\")\n",
    "plt.legend(loc=\"best\")\n",
    "plt.show()\n",
    "\n",
    "\n",
    "# 结果图形解释：\n",
    "# gamma超过0.001左右以后，training越来越好， test越来越差，就是明显的overfit。\n",
    "# \n",
    "# 整个过程的目的：\n",
    "# 使用validation_curve，选取model的某个参数(如gamma)哪个值是最好的，而且不会出现overfitting的\n",
    "# 情况。比如最后，我们就确定gamma大概是0.0006是最好的"
   ]
  },
  {
   "cell_type": "code",
   "execution_count": 1,
   "metadata": {
    "collapsed": true
   },
   "outputs": [],
   "source": [
    ""
   ]
  }
 ],
 "metadata": {
  "kernelspec": {
   "display_name": "Python 2",
   "language": "python",
   "name": "python2"
  },
  "language_info": {
   "codemirror_mode": {
    "name": "ipython",
    "version": 2.0
   },
   "file_extension": ".py",
   "mimetype": "text/x-python",
   "name": "python",
   "nbconvert_exporter": "python",
   "pygments_lexer": "ipython2",
   "version": "2.7.10"
  }
 },
 "nbformat": 4,
 "nbformat_minor": 0
}