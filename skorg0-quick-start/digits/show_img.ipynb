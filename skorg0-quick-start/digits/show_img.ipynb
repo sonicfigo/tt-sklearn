{
 "cells": [
  {
   "cell_type": "code",
   "execution_count": 2,
   "metadata": {
    "collapsed": false
   },
   "outputs": [
    {
     "name": "stdout",
     "output_type": "stream",
     "text": [
      "<type 'numpy.ndarray'>\n"
     ]
    },
    {
     "data": {
      "image/png": "[encoded data removed]",
      "text/plain": [
       "<matplotlib.figure.Figure at 0x10759e6d0>"
      ]
     },
     "metadata": {},
     "output_type": "display_data"
    },
    {
     "name": "stdout",
     "output_type": "stream",
     "text": [
      "8\n"
     ]
    }
   ],
   "source": [
    "# coding=utf-8\n",
    "\"\"\"\n",
    "\n",
    "\"\"\"\n",
    "from sklearn import datasets\n",
    "\n",
    "import matplotlib.pyplot as plt\n",
    "\n",
    "# 載入數字資料集\n",
    "digits = datasets.load_digits()\n",
    "\n",
    "# 畫出第一個圖片\n",
    "plt.figure(1, figsize=(3, 3))\n",
    "idx = 123\n",
    "nda_img_x = digits.images[idx]\n",
    "print(type(nda_img_x))\n",
    "plt.imshow(nda_img_x, cmap=plt.cm.gray_r, interpolation='nearest')\n",
    "plt.show()\n",
    "print(digits.target[idx])  # 看图像和此答案相符不"
   ]
  }
 ],
 "metadata": {
  "kernelspec": {
   "display_name": "Python 2",
   "language": "python",
   "name": "python2"
  },
  "language_info": {
   "codemirror_mode": {
    "name": "ipython",
    "version": 2.0
   },
   "file_extension": ".py",
   "mimetype": "text/x-python",
   "name": "python",
   "nbconvert_exporter": "python",
   "pygments_lexer": "ipython2",
   "version": "2.7.10"
  }
 },
 "nbformat": 4,
 "nbformat_minor": 0
}