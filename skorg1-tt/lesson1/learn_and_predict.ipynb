{
 "cells": [
  {
   "cell_type": "code",
   "execution_count": 2,
   "metadata": {
    "collapsed": false
   },
   "outputs": [
    {
     "name": "stdout",
     "output_type": "stream",
     "text": [
      "预测值是[8]\n答案是[8]，原图像如下:\n"
     ]
    },
    {
     "data": {
      "image/png": "[encoded data removed]",
      "text/plain": [
       "<matplotlib.figure.Figure at 0x112c37250>"
      ]
     },
     "metadata": {},
     "output_type": "display_data"
    }
   ],
   "source": [
    "# coding=utf-8\n",
    "\"\"\"\n",
    "简单的一个SVC例子：\n",
    "training 和 predict，并画出参考真实图像\n",
    "\"\"\"\n",
    "import matplotlib.pyplot as plt\n",
    "from sklearn import svm\n",
    "from sklearn import datasets\n",
    "\n",
    "digits = datasets.load_digits()\n",
    "clf = svm.SVC(gamma=0.001, C=100.)\n",
    "\n",
    "X_train = digits.data[:-1]  # 必须用data，不能直接用digits.images\n",
    "y_train = digits.target[:-1]\n",
    "clf.fit(X_train, y_train)\n",
    "\n",
    "predict_value = clf.predict(digits.data[-1:])\n",
    "print('预测值是%s' % predict_value)\n",
    "\n",
    "last_data = digits.data[-1:]\n",
    "last_img = digits.images[-1:]\n",
    "last_y = digits.target[-1:]\n",
    "print('答案是%s，原图像如下:' % last_y)\n",
    "plt.imshow(last_img[0], cmap=plt.cm.gray_r, interpolation='nearest')\n",
    "\n",
    "plt.show()"
   ]
  },
  {
   "cell_type": "code",
   "execution_count": null,
   "metadata": {},
   "outputs": [],
   "source": [
    ""
   ]
  }
 ],
 "metadata": {
  "kernelspec": {
   "display_name": "Python 2",
   "language": "python",
   "name": "python2"
  },
  "language_info": {
   "codemirror_mode": {
    "name": "ipython",
    "version": 2.0
   },
   "file_extension": ".py",
   "mimetype": "text/x-python",
   "name": "python",
   "nbconvert_exporter": "python",
   "pygments_lexer": "ipython2",
   "version": "2.7.6"
  }
 },
 "nbformat": 4,
 "nbformat_minor": 0
}