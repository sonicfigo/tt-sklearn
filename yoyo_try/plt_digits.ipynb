{
 "cells": [
  {
   "cell_type": "code",
   "execution_count": null,
   "metadata": {
    "collapsed": false
   },
   "outputs": [
    {
     "name": "stdout",
     "output_type": "stream",
     "text": [
      "(1797, 64)\n"
     ]
    },
    {
     "data": {
      "text/plain": [
       "<matplotlib.figure.Figure at 0x10fb13cd0>"
      ]
     },
     "execution_count": 0,
     "metadata": {},
     "output_type": "execute_result"
    },
    {
     "data": {
      "image/png": "[encoded data removed]",
      "text/plain": [
       "<matplotlib.figure.Figure at 0x10fb13d90>"
      ]
     },
     "metadata": {},
     "output_type": "display_data"
    },
    {
     "name": "stdout",
     "output_type": "stream",
     "text": [
      "\n原始数据\narray([  0.,   0.,   5.,  13.,   9.,   1.,   0.,   0.,   0.,   0.,  13.,\n        15.,  10.,  15.,   5.,   0.,   0.,   3.,  15.,   2.,   0.,  11.,\n         8.,   0.,   0.,   4.,  12.,   0.,   0.,   8.,   8.,   0.,   0.,\n         5.,   8.,   0.,   0.,   9.,   8.,   0.,   0.,   4.,  11.,   0.,\n         1.,  12.,   7.,   0.,   0.,   2.,  14.,   5.,  10.,  12.,   0.,\n         0.,   0.,   0.,   6.,  13.,  10.,   0.,   0.,   0.])\n\n分为8行，与图片一致，8x8\n[array([  0.,   0.,   5.,  13.,   9.,   1.,   0.,   0.]),\n array([  0.,   0.,  13.,  15.,  10.,  15.,   5.,   0.]),\n array([  0.,   3.,  15.,   2.,   0.,  11.,   8.,   0.]),\n array([  0.,   4.,  12.,   0.,   0.,   8.,   8.,   0.]),\n array([ 0.,  5.,  8.,  0.,  0.,  9.,  8.,  0.]),\n array([  0.,   4.,  11.,   0.,   1.,  12.,   7.,   0.]),\n array([  0.,   2.,  14.,   5.,  10.,  12.,   0.,   0.]),\n array([  0.,   0.,   6.,  13.,  10.,   0.,   0.,   0.])]\n"
     ]
    }
   ],
   "source": [
    "# coding=utf-8\n",
    "\"\"\"\n",
    "展示一下iris的某个图形，看data的数值所代表的意义：\n",
    "颜色深浅，黑色 0 ， 白色 15\n",
    "\n",
    "\"\"\"\n",
    "import pprint\n",
    "\n",
    "import numpy as np\n",
    "import matplotlib.pyplot as plt\n",
    "from sklearn.datasets import load_digits\n",
    "\n",
    "digits = load_digits()\n",
    "print(digits.data.shape)\n",
    "\n",
    "plt.gray()\n",
    "plt.matshow(digits.images[0])\n",
    "plt.show()\n",
    "\n",
    "print(\"\"\"\n",
    "原始数据\"\"\")\n",
    "first_datas = digits.data[0]\n",
    "assert 64 == len(first_datas)\n",
    "pprint.pprint(first_datas)\n",
    "\n",
    "print(\"\"\"\n",
    "分为8行，与图片一致，8x8\"\"\")\n",
    "first_data_groups = np.array_split(first_datas, 8)  # a list\n",
    "assert 8 == len(first_data_groups)\n",
    "pprint.pprint(first_data_groups)"
   ]
  },
  {
   "cell_type": "code",
   "execution_count": null,
   "metadata": {},
   "outputs": [],
   "source": [
    ""
   ]
  }
 ],
 "metadata": {
  "kernelspec": {
   "display_name": "Python 2",
   "language": "python",
   "name": "python2"
  },
  "language_info": {
   "codemirror_mode": {
    "name": "ipython",
    "version": 2.0
   },
   "file_extension": ".py",
   "mimetype": "text/x-python",
   "name": "python",
   "nbconvert_exporter": "python",
   "pygments_lexer": "ipython2",
   "version": "2.7.6"
  }
 },
 "nbformat": 4,
 "nbformat_minor": 0
}